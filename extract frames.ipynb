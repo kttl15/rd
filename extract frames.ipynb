{
 "cells": [
  {
   "cell_type": "code",
   "execution_count": 33,
   "metadata": {},
   "outputs": [],
   "source": [
    "import cv2\n",
    "import os\n",
    "import shutil"
   ]
  },
  {
   "cell_type": "code",
   "execution_count": 103,
   "metadata": {},
   "outputs": [],
   "source": [
    "def extract_frames(vid_location: str, fps: int = 1, delete: bool = False):\n",
    "    \"\"\"\n",
    "    vid_location: [string] location of the video to be processed.\n",
    "    fps: [int] frames per second to be extracted.\n",
    "    delete: [bool] deletes the 'frames' folder.\n",
    "    \n",
    "    Extracts frames of a video at a given fps.\n",
    "    \"\"\"\n",
    "    \n",
    "#     read video\n",
    "    vid = cv2.VideoCapture(vid_location)\n",
    "    read, img = vid.read()\n",
    "    count = 0\n",
    "    \n",
    "#     delete folder and extracted frames\n",
    "    if delete and 'frames' in os.listdir():\n",
    "        shutil.rmtree('frames/')\n",
    "        \n",
    "#     if frames folder does not exist, make new folder\n",
    "    if 'frames' not in os.listdir():\n",
    "        os.mkdir('frames')\n",
    "    \n",
    "#     init variables\n",
    "    prev_time = -1\n",
    "    curr_time = -1\n",
    "    \n",
    "    curr_frame = -1\n",
    "    \n",
    "    while read:\n",
    "#         set current time and current frame\n",
    "        curr_time, curr_frame = vid.get(cv2.CAP_PROP_POS_MSEC), vid.get(cv2.CAP_PROP_POS_FRAMES)\n",
    "        print(f\"Extracting frame number {int(curr_frame)}\")\n",
    "        \n",
    "#         save extracted frame\n",
    "        cv2.imwrite(f\"frames/img_{count}.jpg\", img)\n",
    "        count += 1\n",
    "        \n",
    "#         set seek to next position\n",
    "        vid.set(cv2.CAP_PROP_POS_MSEC, (count*1000/fps))\n",
    "        read, img = vid.read()\n",
    "        \n",
    "#         set previous time, current time, and current frame\n",
    "        prev_time, curr_time = curr_time, vid.get(cv2.CAP_PROP_POS_MSEC)\n",
    "        curr_frame = vid.get(cv2.CAP_PROP_POS_FRAMES)\n",
    "        \n",
    "#         break if seek at end of video\n",
    "        if prev_time == curr_time:\n",
    "            print('Done.')\n",
    "            break\n",
    "            "
   ]
  },
  {
   "cell_type": "code",
   "execution_count": 104,
   "metadata": {},
   "outputs": [
    {
     "name": "stdout",
     "output_type": "stream",
     "text": [
      "Extracting frame number 1\n",
      "Extracting frame number 25\n",
      "Extracting frame number 49\n",
      "Extracting frame number 74\n",
      "Extracting frame number 98\n",
      "Extracting frame number 122\n",
      "Extracting frame number 146\n",
      "Extracting frame number 171\n",
      "Extracting frame number 195\n",
      "Extracting frame number 219\n",
      "Extracting frame number 243\n",
      "Extracting frame number 268\n",
      "Extracting frame number 292\n",
      "Extracting frame number 316\n",
      "Extracting frame number 340\n",
      "Extracting frame number 365\n",
      "Extracting frame number 389\n",
      "Extracting frame number 402\n",
      "Done.\n"
     ]
    }
   ],
   "source": [
    "extract_frames('nz_cars_ALPR.mp4', 1, True)"
   ]
  },
  {
   "cell_type": "code",
   "execution_count": null,
   "metadata": {},
   "outputs": [],
   "source": []
  },
  {
   "cell_type": "code",
   "execution_count": null,
   "metadata": {},
   "outputs": [],
   "source": []
  },
  {
   "cell_type": "code",
   "execution_count": null,
   "metadata": {},
   "outputs": [],
   "source": []
  },
  {
   "cell_type": "code",
   "execution_count": null,
   "metadata": {},
   "outputs": [],
   "source": []
  },
  {
   "cell_type": "code",
   "execution_count": null,
   "metadata": {},
   "outputs": [],
   "source": []
  },
  {
   "cell_type": "code",
   "execution_count": null,
   "metadata": {},
   "outputs": [],
   "source": []
  },
  {
   "cell_type": "code",
   "execution_count": null,
   "metadata": {},
   "outputs": [],
   "source": []
  },
  {
   "cell_type": "code",
   "execution_count": null,
   "metadata": {},
   "outputs": [],
   "source": []
  },
  {
   "cell_type": "code",
   "execution_count": null,
   "metadata": {},
   "outputs": [],
   "source": []
  },
  {
   "cell_type": "code",
   "execution_count": null,
   "metadata": {},
   "outputs": [],
   "source": []
  },
  {
   "cell_type": "code",
   "execution_count": null,
   "metadata": {},
   "outputs": [],
   "source": []
  },
  {
   "cell_type": "code",
   "execution_count": null,
   "metadata": {},
   "outputs": [],
   "source": []
  },
  {
   "cell_type": "code",
   "execution_count": null,
   "metadata": {},
   "outputs": [],
   "source": []
  },
  {
   "cell_type": "code",
   "execution_count": null,
   "metadata": {},
   "outputs": [],
   "source": []
  },
  {
   "cell_type": "code",
   "execution_count": null,
   "metadata": {},
   "outputs": [],
   "source": []
  },
  {
   "cell_type": "code",
   "execution_count": null,
   "metadata": {},
   "outputs": [],
   "source": []
  },
  {
   "cell_type": "code",
   "execution_count": null,
   "metadata": {},
   "outputs": [],
   "source": []
  },
  {
   "cell_type": "code",
   "execution_count": null,
   "metadata": {},
   "outputs": [],
   "source": []
  },
  {
   "cell_type": "code",
   "execution_count": null,
   "metadata": {},
   "outputs": [],
   "source": []
  }
 ],
 "metadata": {
  "kernelspec": {
   "display_name": "Python 3.7.7 64-bit ('tf2': conda)",
   "language": "python",
   "name": "python37764bittf2conda67417a8e008f4b19bac1705b0184d807"
  },
  "language_info": {
   "codemirror_mode": {
    "name": "ipython",
    "version": 3
   },
   "file_extension": ".py",
   "mimetype": "text/x-python",
   "name": "python",
   "nbconvert_exporter": "python",
   "pygments_lexer": "ipython3",
   "version": "3.7.7"
  }
 },
 "nbformat": 4,
 "nbformat_minor": 4
}
